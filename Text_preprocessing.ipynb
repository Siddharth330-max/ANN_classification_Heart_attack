{
 "cells": [
  {
   "cell_type": "markdown",
   "id": "df5935ca",
   "metadata": {},
   "source": [
    "Basic Data Cleaning and preprocessing"
   ]
  },
  {
   "cell_type": "code",
   "execution_count": 1,
   "id": "bb004a32",
   "metadata": {},
   "outputs": [],
   "source": [
    "import pandas as pd\n",
    "import numpy as np \n"
   ]
  },
  {
   "cell_type": "code",
   "execution_count": 2,
   "id": "ccb4b7c9",
   "metadata": {},
   "outputs": [
    {
     "data": {
      "text/html": [
       "<div>\n",
       "<style scoped>\n",
       "    .dataframe tbody tr th:only-of-type {\n",
       "        vertical-align: middle;\n",
       "    }\n",
       "\n",
       "    .dataframe tbody tr th {\n",
       "        vertical-align: top;\n",
       "    }\n",
       "\n",
       "    .dataframe thead th {\n",
       "        text-align: right;\n",
       "    }\n",
       "</style>\n",
       "<table border=\"1\" class=\"dataframe\">\n",
       "  <thead>\n",
       "    <tr style=\"text-align: right;\">\n",
       "      <th></th>\n",
       "      <th>age</th>\n",
       "      <th>sex</th>\n",
       "      <th>cp</th>\n",
       "      <th>trestbps</th>\n",
       "      <th>chol</th>\n",
       "      <th>fbs</th>\n",
       "      <th>restecg</th>\n",
       "      <th>thalach</th>\n",
       "      <th>exang</th>\n",
       "      <th>oldpeak</th>\n",
       "      <th>slope</th>\n",
       "      <th>ca</th>\n",
       "      <th>thal</th>\n",
       "      <th>num</th>\n",
       "    </tr>\n",
       "  </thead>\n",
       "  <tbody>\n",
       "    <tr>\n",
       "      <th>0</th>\n",
       "      <td>28</td>\n",
       "      <td>1</td>\n",
       "      <td>2</td>\n",
       "      <td>130</td>\n",
       "      <td>132</td>\n",
       "      <td>0</td>\n",
       "      <td>2</td>\n",
       "      <td>185</td>\n",
       "      <td>0</td>\n",
       "      <td>0.0</td>\n",
       "      <td>?</td>\n",
       "      <td>?</td>\n",
       "      <td>?</td>\n",
       "      <td>0</td>\n",
       "    </tr>\n",
       "    <tr>\n",
       "      <th>1</th>\n",
       "      <td>29</td>\n",
       "      <td>1</td>\n",
       "      <td>2</td>\n",
       "      <td>120</td>\n",
       "      <td>243</td>\n",
       "      <td>0</td>\n",
       "      <td>0</td>\n",
       "      <td>160</td>\n",
       "      <td>0</td>\n",
       "      <td>0.0</td>\n",
       "      <td>?</td>\n",
       "      <td>?</td>\n",
       "      <td>?</td>\n",
       "      <td>0</td>\n",
       "    </tr>\n",
       "    <tr>\n",
       "      <th>2</th>\n",
       "      <td>29</td>\n",
       "      <td>1</td>\n",
       "      <td>2</td>\n",
       "      <td>140</td>\n",
       "      <td>?</td>\n",
       "      <td>0</td>\n",
       "      <td>0</td>\n",
       "      <td>170</td>\n",
       "      <td>0</td>\n",
       "      <td>0.0</td>\n",
       "      <td>?</td>\n",
       "      <td>?</td>\n",
       "      <td>?</td>\n",
       "      <td>0</td>\n",
       "    </tr>\n",
       "    <tr>\n",
       "      <th>3</th>\n",
       "      <td>30</td>\n",
       "      <td>0</td>\n",
       "      <td>1</td>\n",
       "      <td>170</td>\n",
       "      <td>237</td>\n",
       "      <td>0</td>\n",
       "      <td>1</td>\n",
       "      <td>170</td>\n",
       "      <td>0</td>\n",
       "      <td>0.0</td>\n",
       "      <td>?</td>\n",
       "      <td>?</td>\n",
       "      <td>6</td>\n",
       "      <td>0</td>\n",
       "    </tr>\n",
       "    <tr>\n",
       "      <th>4</th>\n",
       "      <td>31</td>\n",
       "      <td>0</td>\n",
       "      <td>2</td>\n",
       "      <td>100</td>\n",
       "      <td>219</td>\n",
       "      <td>0</td>\n",
       "      <td>1</td>\n",
       "      <td>150</td>\n",
       "      <td>0</td>\n",
       "      <td>0.0</td>\n",
       "      <td>?</td>\n",
       "      <td>?</td>\n",
       "      <td>?</td>\n",
       "      <td>0</td>\n",
       "    </tr>\n",
       "  </tbody>\n",
       "</table>\n",
       "</div>"
      ],
      "text/plain": [
       "   age  sex  cp trestbps chol fbs restecg thalach exang  oldpeak slope ca  \\\n",
       "0   28    1   2      130  132   0       2     185     0      0.0     ?  ?   \n",
       "1   29    1   2      120  243   0       0     160     0      0.0     ?  ?   \n",
       "2   29    1   2      140    ?   0       0     170     0      0.0     ?  ?   \n",
       "3   30    0   1      170  237   0       1     170     0      0.0     ?  ?   \n",
       "4   31    0   2      100  219   0       1     150     0      0.0     ?  ?   \n",
       "\n",
       "  thal  num         \n",
       "0    ?           0  \n",
       "1    ?           0  \n",
       "2    ?           0  \n",
       "3    6           0  \n",
       "4    ?           0  "
      ]
     },
     "execution_count": 2,
     "metadata": {},
     "output_type": "execute_result"
    }
   ],
   "source": [
    "data = pd.read_csv('Heart_attack_data(csv)')\n",
    "data.head()"
   ]
  },
  {
   "cell_type": "code",
   "execution_count": 3,
   "id": "8c23a4ad",
   "metadata": {},
   "outputs": [
    {
     "name": "stdout",
     "output_type": "stream",
     "text": [
      "<class 'pandas.core.frame.DataFrame'>\n",
      "RangeIndex: 294 entries, 0 to 293\n",
      "Data columns (total 14 columns):\n",
      " #   Column      Non-Null Count  Dtype  \n",
      "---  ------      --------------  -----  \n",
      " 0   age         294 non-null    int64  \n",
      " 1   sex         294 non-null    int64  \n",
      " 2   cp          294 non-null    int64  \n",
      " 3   trestbps    294 non-null    object \n",
      " 4   chol        294 non-null    object \n",
      " 5   fbs         294 non-null    object \n",
      " 6   restecg     294 non-null    object \n",
      " 7   thalach     294 non-null    object \n",
      " 8   exang       294 non-null    object \n",
      " 9   oldpeak     294 non-null    float64\n",
      " 10  slope       294 non-null    object \n",
      " 11  ca          294 non-null    object \n",
      " 12  thal        294 non-null    object \n",
      " 13  num         294 non-null    int64  \n",
      "dtypes: float64(1), int64(4), object(9)\n",
      "memory usage: 32.3+ KB\n"
     ]
    }
   ],
   "source": [
    "## FInding basic info \n",
    "data.info()"
   ]
  },
  {
   "cell_type": "code",
   "execution_count": 4,
   "id": "35af008e",
   "metadata": {},
   "outputs": [],
   "source": [
    "## Create a copy of original dataset  \n",
    "df_copy = data.copy()"
   ]
  },
  {
   "cell_type": "code",
   "execution_count": 5,
   "id": "b0259fd2",
   "metadata": {},
   "outputs": [
    {
     "data": {
      "text/plain": [
       "age           0\n",
       "sex           0\n",
       "cp            0\n",
       "trestbps      0\n",
       "chol          0\n",
       "fbs           0\n",
       "restecg       0\n",
       "thalach       0\n",
       "exang         0\n",
       "oldpeak       0\n",
       "slope         0\n",
       "ca            0\n",
       "thal          0\n",
       "num           0\n",
       "dtype: int64"
      ]
     },
     "execution_count": 5,
     "metadata": {},
     "output_type": "execute_result"
    }
   ],
   "source": [
    "##Checking for null values\n",
    "df_copy.isnull().sum()"
   ]
  },
  {
   "cell_type": "code",
   "execution_count": 8,
   "id": "6aff8408",
   "metadata": {},
   "outputs": [
    {
     "data": {
      "text/plain": [
       "Index(['age', 'sex', 'cp', 'trestbps', 'chol', 'fbs', 'restecg', 'thalach',\n",
       "       'exang', 'oldpeak', 'slope', 'ca', 'thal', 'num       '],\n",
       "      dtype='object')"
      ]
     },
     "execution_count": 8,
     "metadata": {},
     "output_type": "execute_result"
    }
   ],
   "source": [
    "df_copy.columns"
   ]
  },
  {
   "cell_type": "code",
   "execution_count": 9,
   "id": "8f1f9e78",
   "metadata": {},
   "outputs": [],
   "source": [
    "## Reducing whitespaces between column names\n",
    "df_copy.columns = df_copy.columns.str.strip()"
   ]
  },
  {
   "cell_type": "code",
   "execution_count": 10,
   "id": "9d582697",
   "metadata": {},
   "outputs": [
    {
     "data": {
      "text/plain": [
       "Index(['age', 'sex', 'cp', 'trestbps', 'chol', 'fbs', 'restecg', 'thalach',\n",
       "       'exang', 'oldpeak', 'slope', 'ca', 'thal', 'num'],\n",
       "      dtype='object')"
      ]
     },
     "execution_count": 10,
     "metadata": {},
     "output_type": "execute_result"
    }
   ],
   "source": [
    "df_copy.columns"
   ]
  },
  {
   "cell_type": "code",
   "execution_count": 11,
   "id": "82424cd4",
   "metadata": {},
   "outputs": [
    {
     "name": "stdout",
     "output_type": "stream",
     "text": [
      "<class 'pandas.core.frame.DataFrame'>\n",
      "RangeIndex: 294 entries, 0 to 293\n",
      "Data columns (total 14 columns):\n",
      " #   Column    Non-Null Count  Dtype  \n",
      "---  ------    --------------  -----  \n",
      " 0   age       294 non-null    int64  \n",
      " 1   sex       294 non-null    int64  \n",
      " 2   cp        294 non-null    int64  \n",
      " 3   trestbps  294 non-null    object \n",
      " 4   chol      294 non-null    object \n",
      " 5   fbs       294 non-null    object \n",
      " 6   restecg   294 non-null    object \n",
      " 7   thalach   294 non-null    object \n",
      " 8   exang     294 non-null    object \n",
      " 9   oldpeak   294 non-null    float64\n",
      " 10  slope     294 non-null    object \n",
      " 11  ca        294 non-null    object \n",
      " 12  thal      294 non-null    object \n",
      " 13  num       294 non-null    int64  \n",
      "dtypes: float64(1), int64(4), object(9)\n",
      "memory usage: 32.3+ KB\n"
     ]
    }
   ],
   "source": [
    "## Converting categorical features into numerical features\n",
    "df_copy.info()"
   ]
  },
  {
   "cell_type": "code",
   "execution_count": null,
   "metadata": {},
   "outputs": [
    {
     "data": {
      "text/plain": [
       "array(['130', '120', '140', '170', '100', '105', '110', '125', '150',\n",
       "       '98', '112', '145', '190', '160', '115', '142', '180', '132',\n",
       "       '135', '?', '108', '124', '113', '122', '92', '118', '106', '200',\n",
       "       '138', '136', '128', '155'], dtype=object)"
      ]
     },
     "execution_count": 14,
     "metadata": {},
     "output_type": "execute_result"
    }
   ],
   "source": [
    "## For 'trestbps' column\n",
    "df_copy['trestbps'].unique()"
   ]
  },
  {
   "cell_type": "code",
   "execution_count": 15,
   "metadata": {},
   "outputs": [
    {
     "data": {
      "text/plain": [
       "0    120\n",
       "Name: trestbps, dtype: object"
      ]
     },
     "execution_count": 15,
     "metadata": {},
     "output_type": "execute_result"
    }
   ],
   "source": [
    "df_copy['trestbps'].mode()"
   ]
  },
  {
   "cell_type": "code",
   "execution_count": 16,
   "metadata": {},
   "outputs": [],
   "source": [
    "## We can replace it with mode  \n",
    "df_copy['trestbps'] = df_copy['trestbps'].replace('?' , '120')"
   ]
  },
  {
   "cell_type": "code",
   "execution_count": 17,
   "id": "bfdf2a85",
   "metadata": {},
   "outputs": [
    {
     "data": {
      "text/plain": [
       "array(['130', '120', '140', '170', '100', '105', '110', '125', '150',\n",
       "       '98', '112', '145', '190', '160', '115', '142', '180', '132',\n",
       "       '135', '108', '124', '113', '122', '92', '118', '106', '200',\n",
       "       '138', '136', '128', '155'], dtype=object)"
      ]
     },
     "execution_count": 17,
     "metadata": {},
     "output_type": "execute_result"
    }
   ],
   "source": [
    "df_copy['trestbps'].unique()"
   ]
  },
  {
   "cell_type": "code",
   "execution_count": 18,
   "id": "3c6e826f",
   "metadata": {},
   "outputs": [],
   "source": [
    "df_copy['trestbps'] = df_copy['trestbps'].astype(int)"
   ]
  },
  {
   "cell_type": "code",
   "execution_count": 19,
   "id": "78592a3b",
   "metadata": {},
   "outputs": [
    {
     "name": "stdout",
     "output_type": "stream",
     "text": [
      "<class 'pandas.core.frame.DataFrame'>\n",
      "RangeIndex: 294 entries, 0 to 293\n",
      "Data columns (total 14 columns):\n",
      " #   Column    Non-Null Count  Dtype  \n",
      "---  ------    --------------  -----  \n",
      " 0   age       294 non-null    int64  \n",
      " 1   sex       294 non-null    int64  \n",
      " 2   cp        294 non-null    int64  \n",
      " 3   trestbps  294 non-null    int64  \n",
      " 4   chol      294 non-null    object \n",
      " 5   fbs       294 non-null    object \n",
      " 6   restecg   294 non-null    object \n",
      " 7   thalach   294 non-null    object \n",
      " 8   exang     294 non-null    object \n",
      " 9   oldpeak   294 non-null    float64\n",
      " 10  slope     294 non-null    object \n",
      " 11  ca        294 non-null    object \n",
      " 12  thal      294 non-null    object \n",
      " 13  num       294 non-null    int64  \n",
      "dtypes: float64(1), int64(5), object(8)\n",
      "memory usage: 32.3+ KB\n"
     ]
    }
   ],
   "source": [
    "df_copy.info()"
   ]
  },
  {
   "cell_type": "code",
   "execution_count": 20,
   "id": "9455b32f",
   "metadata": {},
   "outputs": [
    {
     "data": {
      "text/plain": [
       "array(['132', '243', '?', '237', '219', '198', '225', '254', '298', '161',\n",
       "       '214', '220', '160', '167', '308', '264', '166', '340', '209',\n",
       "       '260', '211', '173', '283', '194', '223', '315', '275', '297',\n",
       "       '292', '182', '200', '204', '241', '339', '147', '273', '307',\n",
       "       '289', '215', '281', '250', '184', '245', '291', '295', '269',\n",
       "       '196', '268', '228', '358', '201', '249', '266', '186', '207',\n",
       "       '218', '412', '224', '238', '230', '163', '240', '280', '257',\n",
       "       '263', '276', '284', '195', '227', '253', '187', '202', '328',\n",
       "       '168', '216', '129', '190', '188', '179', '210', '272', '180',\n",
       "       '100', '259', '468', '274', '320', '221', '309', '312', '171',\n",
       "       '208', '246', '305', '217', '365', '344', '394', '256', '326',\n",
       "       '277', '270', '229', '85', '347', '251', '222', '287', '318',\n",
       "       '213', '294', '193', '271', '156', '267', '282', '117', '466',\n",
       "       '247', '226', '265', '206', '288', '303', '338', '248', '306',\n",
       "       '529', '392', '231', '329', '355', '233', '242', '603', '255',\n",
       "       '172', '175', '290', '341', '234', '342', '404', '518', '285',\n",
       "       '279', '388', '164', '336', '491', '205', '212', '331', '393'],\n",
       "      dtype=object)"
      ]
     },
     "execution_count": 20,
     "metadata": {},
     "output_type": "execute_result"
    }
   ],
   "source": [
    "## For 'chol' column\n",
    "df_copy['chol'].unique()"
   ]
  },
  {
   "cell_type": "code",
   "execution_count": 26,
   "id": "066a6bdc",
   "metadata": {},
   "outputs": [
    {
     "data": {
      "text/html": [
       "<div>\n",
       "<style scoped>\n",
       "    .dataframe tbody tr th:only-of-type {\n",
       "        vertical-align: middle;\n",
       "    }\n",
       "\n",
       "    .dataframe tbody tr th {\n",
       "        vertical-align: top;\n",
       "    }\n",
       "\n",
       "    .dataframe thead th {\n",
       "        text-align: right;\n",
       "    }\n",
       "</style>\n",
       "<table border=\"1\" class=\"dataframe\">\n",
       "  <thead>\n",
       "    <tr style=\"text-align: right;\">\n",
       "      <th></th>\n",
       "      <th>age</th>\n",
       "      <th>sex</th>\n",
       "      <th>cp</th>\n",
       "      <th>trestbps</th>\n",
       "      <th>chol</th>\n",
       "      <th>fbs</th>\n",
       "      <th>restecg</th>\n",
       "      <th>thalach</th>\n",
       "      <th>exang</th>\n",
       "      <th>oldpeak</th>\n",
       "      <th>slope</th>\n",
       "      <th>ca</th>\n",
       "      <th>thal</th>\n",
       "      <th>num</th>\n",
       "    </tr>\n",
       "  </thead>\n",
       "  <tbody>\n",
       "    <tr>\n",
       "      <th>2</th>\n",
       "      <td>29</td>\n",
       "      <td>1</td>\n",
       "      <td>2</td>\n",
       "      <td>140</td>\n",
       "      <td>?</td>\n",
       "      <td>0</td>\n",
       "      <td>0</td>\n",
       "      <td>170</td>\n",
       "      <td>0</td>\n",
       "      <td>0.0</td>\n",
       "      <td>?</td>\n",
       "      <td>?</td>\n",
       "      <td>?</td>\n",
       "      <td>0</td>\n",
       "    </tr>\n",
       "    <tr>\n",
       "      <th>31</th>\n",
       "      <td>39</td>\n",
       "      <td>1</td>\n",
       "      <td>2</td>\n",
       "      <td>120</td>\n",
       "      <td>?</td>\n",
       "      <td>0</td>\n",
       "      <td>1</td>\n",
       "      <td>146</td>\n",
       "      <td>0</td>\n",
       "      <td>2.0</td>\n",
       "      <td>1</td>\n",
       "      <td>?</td>\n",
       "      <td>?</td>\n",
       "      <td>0</td>\n",
       "    </tr>\n",
       "    <tr>\n",
       "      <th>34</th>\n",
       "      <td>39</td>\n",
       "      <td>1</td>\n",
       "      <td>2</td>\n",
       "      <td>130</td>\n",
       "      <td>?</td>\n",
       "      <td>0</td>\n",
       "      <td>0</td>\n",
       "      <td>120</td>\n",
       "      <td>0</td>\n",
       "      <td>0.0</td>\n",
       "      <td>?</td>\n",
       "      <td>?</td>\n",
       "      <td>?</td>\n",
       "      <td>0</td>\n",
       "    </tr>\n",
       "    <tr>\n",
       "      <th>44</th>\n",
       "      <td>40</td>\n",
       "      <td>1</td>\n",
       "      <td>3</td>\n",
       "      <td>140</td>\n",
       "      <td>?</td>\n",
       "      <td>0</td>\n",
       "      <td>0</td>\n",
       "      <td>188</td>\n",
       "      <td>0</td>\n",
       "      <td>0.0</td>\n",
       "      <td>?</td>\n",
       "      <td>?</td>\n",
       "      <td>?</td>\n",
       "      <td>0</td>\n",
       "    </tr>\n",
       "    <tr>\n",
       "      <th>65</th>\n",
       "      <td>43</td>\n",
       "      <td>0</td>\n",
       "      <td>3</td>\n",
       "      <td>150</td>\n",
       "      <td>?</td>\n",
       "      <td>0</td>\n",
       "      <td>0</td>\n",
       "      <td>175</td>\n",
       "      <td>0</td>\n",
       "      <td>0.0</td>\n",
       "      <td>?</td>\n",
       "      <td>?</td>\n",
       "      <td>3</td>\n",
       "      <td>0</td>\n",
       "    </tr>\n",
       "    <tr>\n",
       "      <th>72</th>\n",
       "      <td>45</td>\n",
       "      <td>0</td>\n",
       "      <td>2</td>\n",
       "      <td>180</td>\n",
       "      <td>?</td>\n",
       "      <td>0</td>\n",
       "      <td>0</td>\n",
       "      <td>180</td>\n",
       "      <td>0</td>\n",
       "      <td>0.0</td>\n",
       "      <td>?</td>\n",
       "      <td>?</td>\n",
       "      <td>?</td>\n",
       "      <td>0</td>\n",
       "    </tr>\n",
       "    <tr>\n",
       "      <th>75</th>\n",
       "      <td>45</td>\n",
       "      <td>1</td>\n",
       "      <td>3</td>\n",
       "      <td>135</td>\n",
       "      <td>?</td>\n",
       "      <td>0</td>\n",
       "      <td>0</td>\n",
       "      <td>110</td>\n",
       "      <td>0</td>\n",
       "      <td>0.0</td>\n",
       "      <td>?</td>\n",
       "      <td>?</td>\n",
       "      <td>?</td>\n",
       "      <td>0</td>\n",
       "    </tr>\n",
       "    <tr>\n",
       "      <th>86</th>\n",
       "      <td>47</td>\n",
       "      <td>0</td>\n",
       "      <td>3</td>\n",
       "      <td>130</td>\n",
       "      <td>?</td>\n",
       "      <td>0</td>\n",
       "      <td>0</td>\n",
       "      <td>145</td>\n",
       "      <td>0</td>\n",
       "      <td>2.0</td>\n",
       "      <td>2</td>\n",
       "      <td>?</td>\n",
       "      <td>?</td>\n",
       "      <td>0</td>\n",
       "    </tr>\n",
       "    <tr>\n",
       "      <th>91</th>\n",
       "      <td>48</td>\n",
       "      <td>0</td>\n",
       "      <td>2</td>\n",
       "      <td>120</td>\n",
       "      <td>?</td>\n",
       "      <td>1</td>\n",
       "      <td>1</td>\n",
       "      <td>148</td>\n",
       "      <td>0</td>\n",
       "      <td>0.0</td>\n",
       "      <td>?</td>\n",
       "      <td>?</td>\n",
       "      <td>?</td>\n",
       "      <td>0</td>\n",
       "    </tr>\n",
       "    <tr>\n",
       "      <th>97</th>\n",
       "      <td>48</td>\n",
       "      <td>1</td>\n",
       "      <td>2</td>\n",
       "      <td>100</td>\n",
       "      <td>?</td>\n",
       "      <td>0</td>\n",
       "      <td>0</td>\n",
       "      <td>100</td>\n",
       "      <td>0</td>\n",
       "      <td>0.0</td>\n",
       "      <td>?</td>\n",
       "      <td>?</td>\n",
       "      <td>?</td>\n",
       "      <td>0</td>\n",
       "    </tr>\n",
       "    <tr>\n",
       "      <th>101</th>\n",
       "      <td>49</td>\n",
       "      <td>0</td>\n",
       "      <td>2</td>\n",
       "      <td>110</td>\n",
       "      <td>?</td>\n",
       "      <td>0</td>\n",
       "      <td>0</td>\n",
       "      <td>160</td>\n",
       "      <td>0</td>\n",
       "      <td>0.0</td>\n",
       "      <td>?</td>\n",
       "      <td>?</td>\n",
       "      <td>?</td>\n",
       "      <td>0</td>\n",
       "    </tr>\n",
       "    <tr>\n",
       "      <th>102</th>\n",
       "      <td>49</td>\n",
       "      <td>0</td>\n",
       "      <td>2</td>\n",
       "      <td>110</td>\n",
       "      <td>?</td>\n",
       "      <td>0</td>\n",
       "      <td>0</td>\n",
       "      <td>160</td>\n",
       "      <td>0</td>\n",
       "      <td>0.0</td>\n",
       "      <td>?</td>\n",
       "      <td>?</td>\n",
       "      <td>?</td>\n",
       "      <td>0</td>\n",
       "    </tr>\n",
       "    <tr>\n",
       "      <th>108</th>\n",
       "      <td>49</td>\n",
       "      <td>1</td>\n",
       "      <td>4</td>\n",
       "      <td>140</td>\n",
       "      <td>?</td>\n",
       "      <td>0</td>\n",
       "      <td>0</td>\n",
       "      <td>130</td>\n",
       "      <td>0</td>\n",
       "      <td>0.0</td>\n",
       "      <td>?</td>\n",
       "      <td>?</td>\n",
       "      <td>?</td>\n",
       "      <td>0</td>\n",
       "    </tr>\n",
       "    <tr>\n",
       "      <th>124</th>\n",
       "      <td>52</td>\n",
       "      <td>0</td>\n",
       "      <td>2</td>\n",
       "      <td>140</td>\n",
       "      <td>?</td>\n",
       "      <td>0</td>\n",
       "      <td>0</td>\n",
       "      <td>140</td>\n",
       "      <td>0</td>\n",
       "      <td>0.0</td>\n",
       "      <td>?</td>\n",
       "      <td>?</td>\n",
       "      <td>?</td>\n",
       "      <td>0</td>\n",
       "    </tr>\n",
       "    <tr>\n",
       "      <th>134</th>\n",
       "      <td>53</td>\n",
       "      <td>1</td>\n",
       "      <td>2</td>\n",
       "      <td>120</td>\n",
       "      <td>?</td>\n",
       "      <td>0</td>\n",
       "      <td>0</td>\n",
       "      <td>132</td>\n",
       "      <td>0</td>\n",
       "      <td>0.0</td>\n",
       "      <td>?</td>\n",
       "      <td>?</td>\n",
       "      <td>?</td>\n",
       "      <td>0</td>\n",
       "    </tr>\n",
       "    <tr>\n",
       "      <th>154</th>\n",
       "      <td>54</td>\n",
       "      <td>1</td>\n",
       "      <td>3</td>\n",
       "      <td>150</td>\n",
       "      <td>?</td>\n",
       "      <td>0</td>\n",
       "      <td>0</td>\n",
       "      <td>122</td>\n",
       "      <td>0</td>\n",
       "      <td>0.0</td>\n",
       "      <td>?</td>\n",
       "      <td>?</td>\n",
       "      <td>?</td>\n",
       "      <td>0</td>\n",
       "    </tr>\n",
       "    <tr>\n",
       "      <th>168</th>\n",
       "      <td>56</td>\n",
       "      <td>1</td>\n",
       "      <td>3</td>\n",
       "      <td>130</td>\n",
       "      <td>?</td>\n",
       "      <td>0</td>\n",
       "      <td>0</td>\n",
       "      <td>114</td>\n",
       "      <td>0</td>\n",
       "      <td>0.0</td>\n",
       "      <td>?</td>\n",
       "      <td>?</td>\n",
       "      <td>?</td>\n",
       "      <td>0</td>\n",
       "    </tr>\n",
       "    <tr>\n",
       "      <th>182</th>\n",
       "      <td>59</td>\n",
       "      <td>1</td>\n",
       "      <td>4</td>\n",
       "      <td>140</td>\n",
       "      <td>?</td>\n",
       "      <td>0</td>\n",
       "      <td>0</td>\n",
       "      <td>140</td>\n",
       "      <td>0</td>\n",
       "      <td>0.0</td>\n",
       "      <td>?</td>\n",
       "      <td>0</td>\n",
       "      <td>?</td>\n",
       "      <td>0</td>\n",
       "    </tr>\n",
       "    <tr>\n",
       "      <th>226</th>\n",
       "      <td>38</td>\n",
       "      <td>1</td>\n",
       "      <td>4</td>\n",
       "      <td>110</td>\n",
       "      <td>?</td>\n",
       "      <td>0</td>\n",
       "      <td>0</td>\n",
       "      <td>150</td>\n",
       "      <td>1</td>\n",
       "      <td>1.0</td>\n",
       "      <td>2</td>\n",
       "      <td>?</td>\n",
       "      <td>?</td>\n",
       "      <td>1</td>\n",
       "    </tr>\n",
       "    <tr>\n",
       "      <th>239</th>\n",
       "      <td>52</td>\n",
       "      <td>1</td>\n",
       "      <td>4</td>\n",
       "      <td>170</td>\n",
       "      <td>?</td>\n",
       "      <td>0</td>\n",
       "      <td>0</td>\n",
       "      <td>126</td>\n",
       "      <td>1</td>\n",
       "      <td>1.5</td>\n",
       "      <td>2</td>\n",
       "      <td>?</td>\n",
       "      <td>?</td>\n",
       "      <td>1</td>\n",
       "    </tr>\n",
       "    <tr>\n",
       "      <th>244</th>\n",
       "      <td>54</td>\n",
       "      <td>1</td>\n",
       "      <td>4</td>\n",
       "      <td>140</td>\n",
       "      <td>?</td>\n",
       "      <td>0</td>\n",
       "      <td>0</td>\n",
       "      <td>118</td>\n",
       "      <td>1</td>\n",
       "      <td>0.0</td>\n",
       "      <td>?</td>\n",
       "      <td>?</td>\n",
       "      <td>?</td>\n",
       "      <td>1</td>\n",
       "    </tr>\n",
       "    <tr>\n",
       "      <th>275</th>\n",
       "      <td>59</td>\n",
       "      <td>1</td>\n",
       "      <td>4</td>\n",
       "      <td>130</td>\n",
       "      <td>?</td>\n",
       "      <td>0</td>\n",
       "      <td>0</td>\n",
       "      <td>125</td>\n",
       "      <td>0</td>\n",
       "      <td>0.0</td>\n",
       "      <td>?</td>\n",
       "      <td>?</td>\n",
       "      <td>?</td>\n",
       "      <td>1</td>\n",
       "    </tr>\n",
       "    <tr>\n",
       "      <th>278</th>\n",
       "      <td>66</td>\n",
       "      <td>1</td>\n",
       "      <td>4</td>\n",
       "      <td>140</td>\n",
       "      <td>?</td>\n",
       "      <td>0</td>\n",
       "      <td>0</td>\n",
       "      <td>94</td>\n",
       "      <td>1</td>\n",
       "      <td>1.0</td>\n",
       "      <td>2</td>\n",
       "      <td>?</td>\n",
       "      <td>?</td>\n",
       "      <td>1</td>\n",
       "    </tr>\n",
       "  </tbody>\n",
       "</table>\n",
       "</div>"
      ],
      "text/plain": [
       "     age  sex  cp  trestbps chol fbs restecg thalach exang  oldpeak slope ca  \\\n",
       "2     29    1   2       140    ?   0       0     170     0      0.0     ?  ?   \n",
       "31    39    1   2       120    ?   0       1     146     0      2.0     1  ?   \n",
       "34    39    1   2       130    ?   0       0     120     0      0.0     ?  ?   \n",
       "44    40    1   3       140    ?   0       0     188     0      0.0     ?  ?   \n",
       "65    43    0   3       150    ?   0       0     175     0      0.0     ?  ?   \n",
       "72    45    0   2       180    ?   0       0     180     0      0.0     ?  ?   \n",
       "75    45    1   3       135    ?   0       0     110     0      0.0     ?  ?   \n",
       "86    47    0   3       130    ?   0       0     145     0      2.0     2  ?   \n",
       "91    48    0   2       120    ?   1       1     148     0      0.0     ?  ?   \n",
       "97    48    1   2       100    ?   0       0     100     0      0.0     ?  ?   \n",
       "101   49    0   2       110    ?   0       0     160     0      0.0     ?  ?   \n",
       "102   49    0   2       110    ?   0       0     160     0      0.0     ?  ?   \n",
       "108   49    1   4       140    ?   0       0     130     0      0.0     ?  ?   \n",
       "124   52    0   2       140    ?   0       0     140     0      0.0     ?  ?   \n",
       "134   53    1   2       120    ?   0       0     132     0      0.0     ?  ?   \n",
       "154   54    1   3       150    ?   0       0     122     0      0.0     ?  ?   \n",
       "168   56    1   3       130    ?   0       0     114     0      0.0     ?  ?   \n",
       "182   59    1   4       140    ?   0       0     140     0      0.0     ?  0   \n",
       "226   38    1   4       110    ?   0       0     150     1      1.0     2  ?   \n",
       "239   52    1   4       170    ?   0       0     126     1      1.5     2  ?   \n",
       "244   54    1   4       140    ?   0       0     118     1      0.0     ?  ?   \n",
       "275   59    1   4       130    ?   0       0     125     0      0.0     ?  ?   \n",
       "278   66    1   4       140    ?   0       0      94     1      1.0     2  ?   \n",
       "\n",
       "    thal  num  \n",
       "2      ?    0  \n",
       "31     ?    0  \n",
       "34     ?    0  \n",
       "44     ?    0  \n",
       "65     3    0  \n",
       "72     ?    0  \n",
       "75     ?    0  \n",
       "86     ?    0  \n",
       "91     ?    0  \n",
       "97     ?    0  \n",
       "101    ?    0  \n",
       "102    ?    0  \n",
       "108    ?    0  \n",
       "124    ?    0  \n",
       "134    ?    0  \n",
       "154    ?    0  \n",
       "168    ?    0  \n",
       "182    ?    0  \n",
       "226    ?    1  \n",
       "239    ?    1  \n",
       "244    ?    1  \n",
       "275    ?    1  \n",
       "278    ?    1  "
      ]
     },
     "execution_count": 26,
     "metadata": {},
     "output_type": "execute_result"
    }
   ],
   "source": [
    "df_copy[~df_copy['chol'].str.isnumeric()]"
   ]
  },
  {
   "cell_type": "code",
   "execution_count": 29,
   "id": "b56c7699",
   "metadata": {},
   "outputs": [],
   "source": [
    "## We need to drop the column 'chol'  \n",
    "df_copy = df_copy.drop(['chol'] , axis = 1)"
   ]
  },
  {
   "cell_type": "code",
   "execution_count": 30,
   "id": "963edf88",
   "metadata": {},
   "outputs": [
    {
     "name": "stdout",
     "output_type": "stream",
     "text": [
      "<class 'pandas.core.frame.DataFrame'>\n",
      "RangeIndex: 294 entries, 0 to 293\n",
      "Data columns (total 13 columns):\n",
      " #   Column    Non-Null Count  Dtype  \n",
      "---  ------    --------------  -----  \n",
      " 0   age       294 non-null    int64  \n",
      " 1   sex       294 non-null    int64  \n",
      " 2   cp        294 non-null    int64  \n",
      " 3   trestbps  294 non-null    int64  \n",
      " 4   fbs       294 non-null    object \n",
      " 5   restecg   294 non-null    object \n",
      " 6   thalach   294 non-null    object \n",
      " 7   exang     294 non-null    object \n",
      " 8   oldpeak   294 non-null    float64\n",
      " 9   slope     294 non-null    object \n",
      " 10  ca        294 non-null    object \n",
      " 11  thal      294 non-null    object \n",
      " 12  num       294 non-null    int64  \n",
      "dtypes: float64(1), int64(5), object(7)\n",
      "memory usage: 30.0+ KB\n"
     ]
    }
   ],
   "source": [
    "df_copy.info()"
   ]
  },
  {
   "cell_type": "code",
   "execution_count": 32,
   "id": "ccba8c26",
   "metadata": {},
   "outputs": [
    {
     "name": "stdout",
     "output_type": "stream",
     "text": [
      "['0' '?' '1']\n",
      "fbs\n",
      "0    266\n",
      "1     20\n",
      "?      8\n",
      "Name: count, dtype: int64\n"
     ]
    }
   ],
   "source": [
    "##For 'fbs' column  \n",
    "print(df_copy['fbs'].unique())\n",
    "print(df_copy['fbs'].value_counts())"
   ]
  },
  {
   "cell_type": "code",
   "execution_count": 34,
   "id": "62cb9eb9",
   "metadata": {},
   "outputs": [],
   "source": [
    "## We can replace '?' with '0'  \n",
    "df_copy['fbs'] = df_copy['fbs'].str.replace('?' ,'0')"
   ]
  },
  {
   "cell_type": "code",
   "execution_count": 35,
   "id": "2c11a08a",
   "metadata": {},
   "outputs": [
    {
     "name": "stdout",
     "output_type": "stream",
     "text": [
      "['0' '1']\n",
      "fbs\n",
      "0    274\n",
      "1     20\n",
      "Name: count, dtype: int64\n"
     ]
    }
   ],
   "source": [
    "print(df_copy['fbs'].unique())\n",
    "print(df_copy['fbs'].value_counts())"
   ]
  },
  {
   "cell_type": "code",
   "execution_count": 36,
   "id": "85adbb0c",
   "metadata": {},
   "outputs": [],
   "source": [
    "df_copy['fbs'] = df_copy['fbs'].astype(int)"
   ]
  },
  {
   "cell_type": "code",
   "execution_count": 37,
   "id": "8026cb04",
   "metadata": {},
   "outputs": [
    {
     "name": "stdout",
     "output_type": "stream",
     "text": [
      "<class 'pandas.core.frame.DataFrame'>\n",
      "RangeIndex: 294 entries, 0 to 293\n",
      "Data columns (total 13 columns):\n",
      " #   Column    Non-Null Count  Dtype  \n",
      "---  ------    --------------  -----  \n",
      " 0   age       294 non-null    int64  \n",
      " 1   sex       294 non-null    int64  \n",
      " 2   cp        294 non-null    int64  \n",
      " 3   trestbps  294 non-null    int64  \n",
      " 4   fbs       294 non-null    int64  \n",
      " 5   restecg   294 non-null    object \n",
      " 6   thalach   294 non-null    object \n",
      " 7   exang     294 non-null    object \n",
      " 8   oldpeak   294 non-null    float64\n",
      " 9   slope     294 non-null    object \n",
      " 10  ca        294 non-null    object \n",
      " 11  thal      294 non-null    object \n",
      " 12  num       294 non-null    int64  \n",
      "dtypes: float64(1), int64(6), object(6)\n",
      "memory usage: 30.0+ KB\n"
     ]
    }
   ],
   "source": [
    "df_copy.info()"
   ]
  },
  {
   "cell_type": "code",
   "execution_count": 38,
   "id": "a6f57d2d",
   "metadata": {},
   "outputs": [
    {
     "name": "stdout",
     "output_type": "stream",
     "text": [
      "['2' '0' '1' '?']\n",
      "restecg\n",
      "0    235\n",
      "1     52\n",
      "2      6\n",
      "?      1\n",
      "Name: count, dtype: int64\n"
     ]
    }
   ],
   "source": [
    "##For restecg column\n",
    "print(df_copy['restecg'].unique())\n",
    "print(df_copy['restecg'].value_counts())"
   ]
  },
  {
   "cell_type": "code",
   "execution_count": 39,
   "id": "cb60f896",
   "metadata": {},
   "outputs": [],
   "source": [
    "## We can replace it with '?'  \n",
    "df_copy['restecg'] = df_copy['restecg'].str.replace('?' ,'0')"
   ]
  },
  {
   "cell_type": "code",
   "execution_count": 40,
   "id": "67b90a1d",
   "metadata": {},
   "outputs": [],
   "source": [
    "df_copy['restecg'] = df_copy['restecg'].astype(int)"
   ]
  },
  {
   "cell_type": "code",
   "execution_count": 41,
   "id": "fddb473d",
   "metadata": {},
   "outputs": [
    {
     "name": "stdout",
     "output_type": "stream",
     "text": [
      "<class 'pandas.core.frame.DataFrame'>\n",
      "RangeIndex: 294 entries, 0 to 293\n",
      "Data columns (total 13 columns):\n",
      " #   Column    Non-Null Count  Dtype  \n",
      "---  ------    --------------  -----  \n",
      " 0   age       294 non-null    int64  \n",
      " 1   sex       294 non-null    int64  \n",
      " 2   cp        294 non-null    int64  \n",
      " 3   trestbps  294 non-null    int64  \n",
      " 4   fbs       294 non-null    int64  \n",
      " 5   restecg   294 non-null    int64  \n",
      " 6   thalach   294 non-null    object \n",
      " 7   exang     294 non-null    object \n",
      " 8   oldpeak   294 non-null    float64\n",
      " 9   slope     294 non-null    object \n",
      " 10  ca        294 non-null    object \n",
      " 11  thal      294 non-null    object \n",
      " 12  num       294 non-null    int64  \n",
      "dtypes: float64(1), int64(7), object(5)\n",
      "memory usage: 30.0+ KB\n"
     ]
    }
   ],
   "source": [
    "df_copy.info()"
   ]
  },
  {
   "cell_type": "code",
   "execution_count": 42,
   "id": "2204c83d",
   "metadata": {},
   "outputs": [
    {
     "name": "stdout",
     "output_type": "stream",
     "text": [
      "['185' '160' '170' '150' '165' '184' '155' '190' '168' '180' '178' '172'\n",
      " '130' '142' '98' '158' '129' '146' '145' '120' '106' '132' '140' '138'\n",
      " '167' '188' '144' '137' '136' '152' '175' '176' '118' '154' '115' '135'\n",
      " '122' '110' '90' '116' '174' '125' '?' '148' '100' '164' '139' '127'\n",
      " '162' '112' '134' '114' '128' '126' '124' '153' '166' '103' '156' '87'\n",
      " '102' '92' '99' '121' '91' '108' '96' '82' '105' '143' '119' '94']\n",
      "thalach\n",
      "150    29\n",
      "140    21\n",
      "130    17\n",
      "170    14\n",
      "160    13\n",
      "       ..\n",
      "91      1\n",
      "82      1\n",
      "105     1\n",
      "143     1\n",
      "119     1\n",
      "Name: count, Length: 72, dtype: int64\n"
     ]
    }
   ],
   "source": [
    "## for 'thalach' column\n",
    "print(df_copy['thalach'].unique())\n",
    "print(df_copy['thalach'].value_counts())"
   ]
  },
  {
   "cell_type": "code",
   "execution_count": 45,
   "id": "2cb15aa9",
   "metadata": {},
   "outputs": [
    {
     "data": {
      "text/plain": [
       "0    150\n",
       "Name: thalach, dtype: object"
      ]
     },
     "execution_count": 45,
     "metadata": {},
     "output_type": "execute_result"
    }
   ],
   "source": [
    "df_copy['thalach'].mode()"
   ]
  },
  {
   "cell_type": "code",
   "execution_count": null,
   "id": "175d629f",
   "metadata": {},
   "outputs": [],
   "source": [
    "## We can replace '?' with mode value\n",
    "df_copy['thalach'] = df_copy['thalach'].replace('?' , '150')"
   ]
  },
  {
   "cell_type": "code",
   "execution_count": 47,
   "id": "76864bff",
   "metadata": {},
   "outputs": [],
   "source": [
    "df_copy['thalach'] = df_copy['thalach'].astype(int)"
   ]
  },
  {
   "cell_type": "code",
   "execution_count": 48,
   "id": "02c05d54",
   "metadata": {},
   "outputs": [
    {
     "name": "stdout",
     "output_type": "stream",
     "text": [
      "<class 'pandas.core.frame.DataFrame'>\n",
      "RangeIndex: 294 entries, 0 to 293\n",
      "Data columns (total 13 columns):\n",
      " #   Column    Non-Null Count  Dtype  \n",
      "---  ------    --------------  -----  \n",
      " 0   age       294 non-null    int64  \n",
      " 1   sex       294 non-null    int64  \n",
      " 2   cp        294 non-null    int64  \n",
      " 3   trestbps  294 non-null    int64  \n",
      " 4   fbs       294 non-null    int64  \n",
      " 5   restecg   294 non-null    int64  \n",
      " 6   thalach   294 non-null    int64  \n",
      " 7   exang     294 non-null    object \n",
      " 8   oldpeak   294 non-null    float64\n",
      " 9   slope     294 non-null    object \n",
      " 10  ca        294 non-null    object \n",
      " 11  thal      294 non-null    object \n",
      " 12  num       294 non-null    int64  \n",
      "dtypes: float64(1), int64(8), object(4)\n",
      "memory usage: 30.0+ KB\n"
     ]
    }
   ],
   "source": [
    "df_copy.info()"
   ]
  },
  {
   "cell_type": "code",
   "execution_count": 49,
   "id": "fd54eafd",
   "metadata": {},
   "outputs": [
    {
     "name": "stdout",
     "output_type": "stream",
     "text": [
      "['0' '1' '?']\n",
      "exang\n",
      "0    204\n",
      "1     89\n",
      "?      1\n",
      "Name: count, dtype: int64\n"
     ]
    }
   ],
   "source": [
    "## For 'exang' column\n",
    "print(df_copy['exang'].unique())\n",
    "print(df_copy['exang'].value_counts())"
   ]
  },
  {
   "cell_type": "code",
   "execution_count": 50,
   "id": "2483cafa",
   "metadata": {},
   "outputs": [],
   "source": [
    "## We can replace '?' with '0'  \n",
    "df_copy['exang'] = df_copy['exang'].str.replace('?' ,'0')"
   ]
  },
  {
   "cell_type": "code",
   "execution_count": 51,
   "id": "118b322d",
   "metadata": {},
   "outputs": [],
   "source": [
    "df_copy['exang'] = df_copy['exang'].astype(int)"
   ]
  },
  {
   "cell_type": "code",
   "execution_count": 52,
   "id": "77cdc0bd",
   "metadata": {},
   "outputs": [
    {
     "name": "stdout",
     "output_type": "stream",
     "text": [
      "<class 'pandas.core.frame.DataFrame'>\n",
      "RangeIndex: 294 entries, 0 to 293\n",
      "Data columns (total 13 columns):\n",
      " #   Column    Non-Null Count  Dtype  \n",
      "---  ------    --------------  -----  \n",
      " 0   age       294 non-null    int64  \n",
      " 1   sex       294 non-null    int64  \n",
      " 2   cp        294 non-null    int64  \n",
      " 3   trestbps  294 non-null    int64  \n",
      " 4   fbs       294 non-null    int64  \n",
      " 5   restecg   294 non-null    int64  \n",
      " 6   thalach   294 non-null    int64  \n",
      " 7   exang     294 non-null    int64  \n",
      " 8   oldpeak   294 non-null    float64\n",
      " 9   slope     294 non-null    object \n",
      " 10  ca        294 non-null    object \n",
      " 11  thal      294 non-null    object \n",
      " 12  num       294 non-null    int64  \n",
      "dtypes: float64(1), int64(9), object(3)\n",
      "memory usage: 30.0+ KB\n"
     ]
    }
   ],
   "source": [
    "df_copy.info()"
   ]
  },
  {
   "cell_type": "code",
   "execution_count": 53,
   "id": "88779ec4",
   "metadata": {},
   "outputs": [
    {
     "name": "stdout",
     "output_type": "stream",
     "text": [
      "['?' '2' '1' '3']\n",
      "slope\n",
      "?    190\n",
      "2     91\n",
      "1     12\n",
      "3      1\n",
      "Name: count, dtype: int64\n"
     ]
    }
   ],
   "source": [
    "## For 'slope' column \n",
    "print(df_copy['slope'].unique())\n",
    "print(df_copy['slope'].value_counts())"
   ]
  },
  {
   "cell_type": "code",
   "execution_count": 54,
   "id": "2dd863f1",
   "metadata": {},
   "outputs": [],
   "source": [
    "## It's better to drop this column  \n",
    "df_copy = df_copy.drop(['slope'], axis = 1)"
   ]
  },
  {
   "cell_type": "code",
   "execution_count": 55,
   "id": "4e1939cc",
   "metadata": {},
   "outputs": [
    {
     "name": "stdout",
     "output_type": "stream",
     "text": [
      "<class 'pandas.core.frame.DataFrame'>\n",
      "RangeIndex: 294 entries, 0 to 293\n",
      "Data columns (total 12 columns):\n",
      " #   Column    Non-Null Count  Dtype  \n",
      "---  ------    --------------  -----  \n",
      " 0   age       294 non-null    int64  \n",
      " 1   sex       294 non-null    int64  \n",
      " 2   cp        294 non-null    int64  \n",
      " 3   trestbps  294 non-null    int64  \n",
      " 4   fbs       294 non-null    int64  \n",
      " 5   restecg   294 non-null    int64  \n",
      " 6   thalach   294 non-null    int64  \n",
      " 7   exang     294 non-null    int64  \n",
      " 8   oldpeak   294 non-null    float64\n",
      " 9   ca        294 non-null    object \n",
      " 10  thal      294 non-null    object \n",
      " 11  num       294 non-null    int64  \n",
      "dtypes: float64(1), int64(9), object(2)\n",
      "memory usage: 27.7+ KB\n"
     ]
    }
   ],
   "source": [
    "df_copy.info()"
   ]
  },
  {
   "cell_type": "code",
   "execution_count": 56,
   "id": "49c128b1",
   "metadata": {},
   "outputs": [
    {
     "name": "stdout",
     "output_type": "stream",
     "text": [
      "['?' '0']\n",
      "ca\n",
      "?    291\n",
      "0      3\n",
      "Name: count, dtype: int64\n"
     ]
    }
   ],
   "source": [
    "## For 'ca' column \n",
    "print(df_copy['ca'].unique())\n",
    "print(df_copy['ca'].value_counts())"
   ]
  },
  {
   "cell_type": "code",
   "execution_count": 57,
   "id": "5ee14573",
   "metadata": {},
   "outputs": [],
   "source": [
    "## We can replace '?' with '0'  \n",
    "df_copy['ca'] = df_copy['ca'].str.replace('?' ,'0')"
   ]
  },
  {
   "cell_type": "code",
   "execution_count": 58,
   "id": "4d937282",
   "metadata": {},
   "outputs": [],
   "source": [
    "df_copy['ca'] = df_copy['ca'].astype(int)"
   ]
  },
  {
   "cell_type": "code",
   "execution_count": 59,
   "id": "a16c9d6e",
   "metadata": {},
   "outputs": [
    {
     "name": "stdout",
     "output_type": "stream",
     "text": [
      "<class 'pandas.core.frame.DataFrame'>\n",
      "RangeIndex: 294 entries, 0 to 293\n",
      "Data columns (total 12 columns):\n",
      " #   Column    Non-Null Count  Dtype  \n",
      "---  ------    --------------  -----  \n",
      " 0   age       294 non-null    int64  \n",
      " 1   sex       294 non-null    int64  \n",
      " 2   cp        294 non-null    int64  \n",
      " 3   trestbps  294 non-null    int64  \n",
      " 4   fbs       294 non-null    int64  \n",
      " 5   restecg   294 non-null    int64  \n",
      " 6   thalach   294 non-null    int64  \n",
      " 7   exang     294 non-null    int64  \n",
      " 8   oldpeak   294 non-null    float64\n",
      " 9   ca        294 non-null    int64  \n",
      " 10  thal      294 non-null    object \n",
      " 11  num       294 non-null    int64  \n",
      "dtypes: float64(1), int64(10), object(1)\n",
      "memory usage: 27.7+ KB\n"
     ]
    }
   ],
   "source": [
    "df_copy.info()"
   ]
  },
  {
   "cell_type": "code",
   "execution_count": 60,
   "id": "30efe60f",
   "metadata": {},
   "outputs": [
    {
     "name": "stdout",
     "output_type": "stream",
     "text": [
      "['?' '6' '3' '7']\n",
      "thal\n",
      "?    266\n",
      "7     11\n",
      "6     10\n",
      "3      7\n",
      "Name: count, dtype: int64\n"
     ]
    }
   ],
   "source": [
    "## For 'thal' column  \n",
    "print(df_copy['thal'].unique())\n",
    "print(df_copy['thal'].value_counts())"
   ]
  },
  {
   "cell_type": "code",
   "execution_count": 61,
   "id": "c0aabdb7",
   "metadata": {},
   "outputs": [],
   "source": [
    "## We need to drop this column as well \n",
    "df_copy = df_copy.drop(['thal'],axis =1)"
   ]
  },
  {
   "cell_type": "code",
   "execution_count": 62,
   "id": "7c997208",
   "metadata": {},
   "outputs": [
    {
     "name": "stdout",
     "output_type": "stream",
     "text": [
      "<class 'pandas.core.frame.DataFrame'>\n",
      "RangeIndex: 294 entries, 0 to 293\n",
      "Data columns (total 11 columns):\n",
      " #   Column    Non-Null Count  Dtype  \n",
      "---  ------    --------------  -----  \n",
      " 0   age       294 non-null    int64  \n",
      " 1   sex       294 non-null    int64  \n",
      " 2   cp        294 non-null    int64  \n",
      " 3   trestbps  294 non-null    int64  \n",
      " 4   fbs       294 non-null    int64  \n",
      " 5   restecg   294 non-null    int64  \n",
      " 6   thalach   294 non-null    int64  \n",
      " 7   exang     294 non-null    int64  \n",
      " 8   oldpeak   294 non-null    float64\n",
      " 9   ca        294 non-null    int64  \n",
      " 10  num       294 non-null    int64  \n",
      "dtypes: float64(1), int64(10)\n",
      "memory usage: 25.4 KB\n"
     ]
    }
   ],
   "source": [
    "df_copy.info()"
   ]
  },
  {
   "cell_type": "code",
   "execution_count": 63,
   "id": "5367ba65",
   "metadata": {},
   "outputs": [],
   "source": [
    "## Now we need to save this preprocessed dataset  \n",
    "df_copy.to_csv('Cleaned_Heart_attack_dataset.csv', index=False)\n"
   ]
  }
 ],
 "metadata": {
  "kernelspec": {
   "display_name": "Python 3",
   "language": "python",
   "name": "python3"
  },
  "language_info": {
   "codemirror_mode": {
    "name": "ipython",
    "version": 3
   },
   "file_extension": ".py",
   "mimetype": "text/x-python",
   "name": "python",
   "nbconvert_exporter": "python",
   "pygments_lexer": "ipython3",
   "version": "3.11.0"
  }
 },
 "nbformat": 4,
 "nbformat_minor": 5
}
